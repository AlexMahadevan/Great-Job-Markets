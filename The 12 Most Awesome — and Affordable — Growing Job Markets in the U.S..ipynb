{
 "cells": [
  {
   "cell_type": "markdown",
   "metadata": {},
   "source": [
    "# The 12 Most Awesome Growing Job Markets in the U.S.\n",
    "\n",
    "<p>Based on the U.S. Bureau of Labor Statistic’s [latest QCEW data](\"https://www.bls.gov/cew/\") released Sept. 6.</p>"
   ]
  },
  {
   "cell_type": "code",
   "execution_count": 1,
   "metadata": {
    "collapsed": true
   },
   "outputs": [],
   "source": [
    "import pandas as pd"
   ]
  },
  {
   "cell_type": "markdown",
   "metadata": {},
   "source": [
    "<p>We start by importing the dataset.</p>"
   ]
  },
  {
   "cell_type": "code",
   "execution_count": 42,
   "metadata": {
    "collapsed": true
   },
   "outputs": [],
   "source": [
    "df = pd.read_csv(\"/Users/alexmahadevan/Desktop/Projects/Wages/2017.q1-q1.by_industry/2017.q1-q1 10 10 Total, all industries.csv\")"
   ]
  },
  {
   "cell_type": "markdown",
   "metadata": {},
   "source": [
    "<p>Now we’ll examine the variables we want to isolate in the analysis.</p>"
   ]
  },
  {
   "cell_type": "code",
   "execution_count": 43,
   "metadata": {},
   "outputs": [
    {
     "data": {
      "text/html": [
       "<div>\n",
       "<style>\n",
       "    .dataframe thead tr:only-child th {\n",
       "        text-align: right;\n",
       "    }\n",
       "\n",
       "    .dataframe thead th {\n",
       "        text-align: left;\n",
       "    }\n",
       "\n",
       "    .dataframe tbody tr th {\n",
       "        vertical-align: top;\n",
       "    }\n",
       "</style>\n",
       "<table border=\"1\" class=\"dataframe\">\n",
       "  <thead>\n",
       "    <tr style=\"text-align: right;\">\n",
       "      <th></th>\n",
       "      <th>area_fips</th>\n",
       "      <th>own_code</th>\n",
       "      <th>industry_code</th>\n",
       "      <th>agglvl_code</th>\n",
       "      <th>size_code</th>\n",
       "      <th>year</th>\n",
       "      <th>qtr</th>\n",
       "      <th>disclosure_code</th>\n",
       "      <th>area_title</th>\n",
       "      <th>own_title</th>\n",
       "      <th>...</th>\n",
       "      <th>oty_month3_emplvl_chg</th>\n",
       "      <th>oty_month3_emplvl_pct_chg</th>\n",
       "      <th>oty_total_qtrly_wages_chg</th>\n",
       "      <th>oty_total_qtrly_wages_pct_chg</th>\n",
       "      <th>oty_taxable_qtrly_wages_chg</th>\n",
       "      <th>oty_taxable_qtrly_wages_pct_chg</th>\n",
       "      <th>oty_qtrly_contributions_chg</th>\n",
       "      <th>oty_qtrly_contributions_pct_chg</th>\n",
       "      <th>oty_avg_wkly_wage_chg</th>\n",
       "      <th>oty_avg_wkly_wage_pct_chg</th>\n",
       "    </tr>\n",
       "  </thead>\n",
       "  <tbody>\n",
       "    <tr>\n",
       "      <th>0</th>\n",
       "      <td>28055</td>\n",
       "      <td>1</td>\n",
       "      <td>10</td>\n",
       "      <td>71</td>\n",
       "      <td>0</td>\n",
       "      <td>2017</td>\n",
       "      <td>1</td>\n",
       "      <td>NaN</td>\n",
       "      <td>Issaquena County, Mississippi</td>\n",
       "      <td>Federal Government</td>\n",
       "      <td>...</td>\n",
       "      <td>-1</td>\n",
       "      <td>-100.0</td>\n",
       "      <td>-659.0</td>\n",
       "      <td>-6.4</td>\n",
       "      <td>0</td>\n",
       "      <td>0.0</td>\n",
       "      <td>0</td>\n",
       "      <td>0.0</td>\n",
       "      <td>1439</td>\n",
       "      <td>180.8</td>\n",
       "    </tr>\n",
       "  </tbody>\n",
       "</table>\n",
       "<p>1 rows × 47 columns</p>\n",
       "</div>"
      ],
      "text/plain": [
       "  area_fips  own_code  industry_code  agglvl_code  size_code  year  qtr  \\\n",
       "0     28055         1             10           71          0  2017    1   \n",
       "\n",
       "  disclosure_code                     area_title           own_title  \\\n",
       "0             NaN  Issaquena County, Mississippi  Federal Government   \n",
       "\n",
       "             ...             oty_month3_emplvl_chg oty_month3_emplvl_pct_chg  \\\n",
       "0            ...                                -1                    -100.0   \n",
       "\n",
       "  oty_total_qtrly_wages_chg  oty_total_qtrly_wages_pct_chg  \\\n",
       "0                    -659.0                           -6.4   \n",
       "\n",
       "   oty_taxable_qtrly_wages_chg  oty_taxable_qtrly_wages_pct_chg  \\\n",
       "0                            0                              0.0   \n",
       "\n",
       "   oty_qtrly_contributions_chg  oty_qtrly_contributions_pct_chg  \\\n",
       "0                            0                              0.0   \n",
       "\n",
       "   oty_avg_wkly_wage_chg  oty_avg_wkly_wage_pct_chg  \n",
       "0                   1439                      180.8  \n",
       "\n",
       "[1 rows x 47 columns]"
      ]
     },
     "execution_count": 43,
     "metadata": {},
     "output_type": "execute_result"
    }
   ],
   "source": [
    "df.head(1)"
   ]
  },
  {
   "cell_type": "markdown",
   "metadata": {},
   "source": [
    "<p>We’re only looking at private employment in this analysis. So we’ll go ahead and isolate that sector here.</p>"
   ]
  },
  {
   "cell_type": "code",
   "execution_count": 44,
   "metadata": {
    "collapsed": true
   },
   "outputs": [],
   "source": [
    "df = df[df.own_code == 5]"
   ]
  },
  {
   "cell_type": "markdown",
   "metadata": {
    "scrolled": true
   },
   "source": [
    "<p>Now let’s throw out some of the smaller counties</p>"
   ]
  },
  {
   "cell_type": "code",
   "execution_count": 45,
   "metadata": {
    "collapsed": true
   },
   "outputs": [],
   "source": [
    "df_large = df[df.qtrly_estabs_count >= 3592 ]"
   ]
  },
  {
   "cell_type": "markdown",
   "metadata": {
    "collapsed": true
   },
   "source": [
    "<p>Now, we’ll isolateonly the counties, since they included MSAs in the dataset.</p>"
   ]
  },
  {
   "cell_type": "code",
   "execution_count": 46,
   "metadata": {
    "collapsed": true
   },
   "outputs": [],
   "source": [
    "df_county = df_large[df_large.agglvl_code==71]"
   ]
  },
  {
   "cell_type": "code",
   "execution_count": 47,
   "metadata": {
    "collapsed": true
   },
   "outputs": [],
   "source": [
    "pd.options.mode.chained_assignment = None"
   ]
  },
  {
   "cell_type": "markdown",
   "metadata": {
    "collapsed": true
   },
   "source": [
    "<p>Now, we’re looking at the percentage change in average weekly wage over 2016, the percent change in new establishments (businesses) and the increase — or decrease — in employment.</p>"
   ]
  },
  {
   "cell_type": "markdown",
   "metadata": {
    "collapsed": true
   },
   "source": [
    "<p>To do that, we apply the Z-score method to those variables to normalize them. That way we can compare apples to apples.</p>"
   ]
  },
  {
   "cell_type": "code",
   "execution_count": 48,
   "metadata": {},
   "outputs": [],
   "source": [
    "pd.options.mode.chained_assignment = None"
   ]
  },
  {
   "cell_type": "code",
   "execution_count": 49,
   "metadata": {
    "collapsed": true
   },
   "outputs": [],
   "source": [
    "df_county['zWage'] = (df_county.oty_avg_wkly_wage_pct_chg - df_county.oty_avg_wkly_wage_pct_chg.mean())/ df_county.oty_avg_wkly_wage_pct_chg.std()"
   ]
  },
  {
   "cell_type": "code",
   "execution_count": 53,
   "metadata": {
    "collapsed": true
   },
   "outputs": [],
   "source": [
    "df_county['zNewBusiness'] = (df_county.oty_qtrly_estabs_count_pct_chg - df_county.oty_qtrly_estabs_count_pct_chg.mean())/ df_county.oty_qtrly_estabs_count_pct_chg.std()"
   ]
  },
  {
   "cell_type": "markdown",
   "metadata": {},
   "source": [
    "<p>There’s one problem: we don’rt have a variable that takes into account employment change throughout the quarter. Let’s just take the year-over-year change in employment for each month and find the average.</p>"
   ]
  },
  {
   "cell_type": "code",
   "execution_count": 50,
   "metadata": {},
   "outputs": [],
   "source": [
    "df_county['avgeemployment'] = (df_county.oty_month1_emplvl_pct_chg + df_county.oty_month2_emplvl_pct_chg+ df_county.oty_month3_emplvl_pct_chg)/3"
   ]
  },
  {
   "cell_type": "markdown",
   "metadata": {
    "collapsed": true
   },
   "source": [
    "<p>Back to Z-scores.</p>"
   ]
  },
  {
   "cell_type": "code",
   "execution_count": 51,
   "metadata": {
    "collapsed": true
   },
   "outputs": [],
   "source": [
    "df_county['zEmployment'] = (df_county.avgeemployment - df_county.avgeemployment.mean())/ df_county.avgeemployment.std()"
   ]
  },
  {
   "cell_type": "markdown",
   "metadata": {},
   "source": [
    "<p>Now we’ll average the Z-scores to find the overall rank.</p>"
   ]
  },
  {
   "cell_type": "code",
   "execution_count": 54,
   "metadata": {},
   "outputs": [],
   "source": [
    "df_county['zRank'] = (df_county.zWage + df_county.zNewBusiness + df_county.zEmployment) / 3"
   ]
  },
  {
   "cell_type": "markdown",
   "metadata": {},
   "source": [
    "<p>Now we rank them.</p>"
   ]
  },
  {
   "cell_type": "code",
   "execution_count": 23,
   "metadata": {
    "collapsed": true
   },
   "outputs": [],
   "source": [
    "county_business_rank = df_county.sort_values('zRank' , ascending=False)"
   ]
  },
  {
   "cell_type": "markdown",
   "metadata": {},
   "source": [
    "<p>Now we have our additional dataset.</p>"
   ]
  },
  {
   "cell_type": "code",
   "execution_count": 24,
   "metadata": {
    "collapsed": true
   },
   "outputs": [],
   "source": [
    "county_business_rank.to_csv(\"/Users/alexmahadevan/Desktop/Projects/Wages/analysis.csv\")"
   ]
  },
  {
   "cell_type": "markdown",
   "metadata": {},
   "source": [
    "<p>We cleaned that up a little in Excel, now let’s load it back in with another dataset containing cost-of-living data.</p>"
   ]
  },
  {
   "cell_type": "code",
   "execution_count": 25,
   "metadata": {
    "collapsed": true
   },
   "outputs": [],
   "source": [
    "county_data = pd.read_csv(\"/Users/alexmahadevan/Desktop/Projects/Wages/county data.csv\")"
   ]
  },
  {
   "cell_type": "code",
   "execution_count": 26,
   "metadata": {},
   "outputs": [],
   "source": [
    "wage_data = pd.read_csv(\"/Users/alexmahadevan/Desktop/Projects/Wages/with cities.csv\")"
   ]
  },
  {
   "cell_type": "markdown",
   "metadata": {},
   "source": [
    "<p>Now we merge the two datasets.</p>"
   ]
  },
  {
   "cell_type": "code",
   "execution_count": 28,
   "metadata": {},
   "outputs": [],
   "source": [
    "merged = pd.merge(wage_data, county_data, on=\"CTY\")"
   ]
  },
  {
   "cell_type": "markdown",
   "metadata": {},
   "source": [
    "<p>And finally, we output our merged dataset (still sorted with the biggest booming job markets.</p>"
   ]
  },
  {
   "cell_type": "code",
   "execution_count": 29,
   "metadata": {
    "collapsed": true
   },
   "outputs": [],
   "source": [
    "merged.to_csv(\"/Users/alexmahadevan/Desktop/wage.csv\")"
   ]
  },
  {
   "cell_type": "markdown",
   "metadata": {},
   "source": [
    "<p>We finished by looking at the median rent cost as the affordability factor, and adding it to the ranking in Excel. We threw out some of the top cities (Bye, bye expensive Franklin, Tennessee!).</p>\n",
    "<p>Thank you for reading, and make sure to check out [The Penny Hoarder](\"https://www.thepennyhoarder.com\") for tons of content to put more money in your pocket!</p>"
   ]
  }
 ],
 "metadata": {
  "kernelspec": {
   "display_name": "Python 2",
   "language": "python",
   "name": "python2"
  },
  "language_info": {
   "codemirror_mode": {
    "name": "ipython",
    "version": 2
   },
   "file_extension": ".py",
   "mimetype": "text/x-python",
   "name": "python",
   "nbconvert_exporter": "python",
   "pygments_lexer": "ipython2",
   "version": "2.7.10"
  }
 },
 "nbformat": 4,
 "nbformat_minor": 2
}
